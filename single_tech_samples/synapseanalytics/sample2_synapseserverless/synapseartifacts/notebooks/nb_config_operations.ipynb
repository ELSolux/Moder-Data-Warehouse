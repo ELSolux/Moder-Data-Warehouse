{
  "nbformat": 4,
  "nbformat_minor": 2,
  "metadata": {
    "kernelspec": {
      "name": "synapse_pyspark",
      "display_name": "Synapse PySpark"
    },
    "language_info": {
      "name": "python"
    },
    "description": null,
    "save_output": true,
    "synapse_widget": {
      "version": "0.1",
      "state": {}
    }
  },
  "cells": [
    {
      "cell_type": "markdown",
      "metadata": {
        "nteract": {
          "transient": {
            "deleting": false
          }
        }
      },
      "source": [
        "## Install Required Python Modules\r\n",
        "*TO DO*: use requirements.txt and set it at server level"
      ]
    },
    {
      "cell_type": "code",
      "execution_count": null,
      "outputs": [],
      "metadata": {
        "jupyter": {
          "source_hidden": false,
          "outputs_hidden": false
        },
        "nteract": {
          "transient": {
            "deleting": false
          }
        }
      },
      "source": [
        "# Moved this step to package installation using \"requirements.txt\"\r\n",
        "# az synapse spark pool update with --library-requirements requirements.txt\r\n",
        "# Concern: Long time(~ 20 mins) for the statement to return status\r\n",
        "\"\"\"\r\n",
        "pip install azure-storage-file-datalake\r\n",
        "import pkg_resources\r\n",
        "for d in pkg_resources.working_set:\r\n",
        "     print(d)\r\n",
        "\"\"\"\r\n",
        ""
      ]
    },
    {
      "cell_type": "code",
      "execution_count": null,
      "outputs": [],
      "metadata": {
        "jupyter": {
          "source_hidden": false,
          "outputs_hidden": false
        },
        "nteract": {
          "transient": {
            "deleting": false
          }
        }
      },
      "source": [
        "import json\r\n",
        "from collections import defaultdict\r\n",
        "from datetime import datetime\r\n",
        "\r\n",
        "from azure.storage.filedatalake import DataLakeServiceClient\r\n",
        "from notebookutils import mssparkutils\r\n",
        ""
      ]
    },
    {
      "cell_type": "markdown",
      "metadata": {
        "nteract": {
          "transient": {
            "deleting": false
          }
        }
      },
      "source": [
        "## Define Parameters to Enable connection to Storage"
      ]
    },
    {
      "cell_type": "code",
      "execution_count": null,
      "outputs": [],
      "metadata": {
        "jupyter": {
          "source_hidden": false,
          "outputs_hidden": false
        },
        "nteract": {
          "transient": {
            "deleting": false
          }
        },
        "tags": [
          "parameters"
        ]
      },
      "source": [
        "permissions_map = {0: \"---\", 1: \"--x\", 2: \"-w-\", 3: \"-wx\", 4: \"r--\", 5: \"r-x\", 6: \"rw-\", 7: \"rwx\" }\r\n",
        "current_ts = datetime.utcnow().strftime(\"%Y-%m-%dT%H:%M:%SZ\")\r\n",
        "# Parameters\r\n",
        "# config_file = './config/sampleconfig.json' # use adls location\r\n",
        "keyvault_ls_name = \"keyvault_ls_secrets\"\r\n",
        "storage_acct = \"syngudast101\"\r\n",
        "data_container = \"datalake\"\r\n",
        "data_path_prefix = \"\"\r\n",
        "\r\n",
        "# Secrets based values\r\n",
        "storage_access_key = mssparkutils.credentials.getSecretWithLS(keyvault_ls_name, \"config-storage-access-key-new\")\r\n",
        "storage_acct_connection = f\"DefaultEndpointsProtocol=https;AccountName={storage_acct};AccountKey={storage_access_key};EndpointSuffix=core.windows.net\"\r\n",
        ""
      ]
    },
    {
      "cell_type": "markdown",
      "metadata": {
        "nteract": {
          "transient": {
            "deleting": false
          }
        }
      },
      "source": [
        "## Functions to read data from ADLS and update ACLS"
      ]
    },
    {
      "cell_type": "code",
      "execution_count": null,
      "outputs": [],
      "metadata": {
        "jupyter": {
          "source_hidden": false,
          "outputs_hidden": false
        },
        "nteract": {
          "transient": {
            "deleting": false
          }
        }
      },
      "source": [
        "# https://learn.microsoft.com/en-us/azure/storage/blobs/data-lake-storage-directory-file-acl-python\r\n",
        "def initialize_storage_account(storage_account_name, storage_account_key):\r\n",
        "    \r\n",
        "    global service_client\r\n",
        "\r\n",
        "    try:  \r\n",
        "        service_client = DataLakeServiceClient(account_url=f\"https://{storage_acct}.dfs.core.windows.net\", credential=storage_account_key)\r\n",
        "    except Exception as e:\r\n",
        "        print(e)\r\n",
        "\r\n",
        "    return service_client\r\n",
        "\r\n",
        "\r\n",
        "def download_file_from_directory(container, directory, file_name):\r\n",
        "    try:\r\n",
        "        file_system_client = service_client.get_file_system_client(file_system=container)\r\n",
        "\r\n",
        "        directory_client = file_system_client.get_directory_client(directory)\r\n",
        "     \r\n",
        "        file_client = directory_client.get_file_client(file_name)\r\n",
        "\r\n",
        "        download = file_client.download_file()\r\n",
        "\r\n",
        "    except Exception as e:\r\n",
        "        print(e)\r\n",
        "    else:\r\n",
        "        configuration = json.loads(download.readall())\r\n",
        "        return configuration\r\n",
        "\r\n",
        "\r\n",
        "# https://learn.microsoft.com/en-us/azure/storage/blobs/data-lake-storage-acl-python\r\n",
        "def update_permission_recursively(service_client, container_name, directory_path, is_default_scope, user_type, user_id, permissions):\r\n",
        "    \r\n",
        "    try:\r\n",
        "        file_system_client = service_client.get_file_system_client(file_system=container_name)\r\n",
        "\r\n",
        "        directory_client = file_system_client.get_directory_client(directory_path)\r\n",
        "              \r\n",
        "        acl = f\"{user_type}:{user_id}:{permissions}\"\r\n",
        "\r\n",
        "        if is_default_scope:\r\n",
        "           acl = f'default:{user_type}:{user_id}:{permissions}'\r\n",
        "\r\n",
        "        directory_client.update_access_control_recursive(acl=acl)\r\n",
        "\r\n",
        "        acl_props = directory_client.get_access_control()\r\n",
        "        \r\n",
        "        print(f\"Permissions for {user_type}:{user_id} are:\\n{acl_props['acl']}\") \r\n",
        "\r\n",
        "    except Exception as e:\r\n",
        "        print(e)\r\n",
        "\r\n",
        "\r\n",
        ""
      ]
    },
    {
      "cell_type": "markdown",
      "metadata": {
        "nteract": {
          "transient": {
            "deleting": false
          }
        }
      },
      "source": [
        "## Read Config from ADLS"
      ]
    },
    {
      "cell_type": "code",
      "execution_count": null,
      "outputs": [],
      "metadata": {
        "jupyter": {
          "source_hidden": false,
          "outputs_hidden": false
        },
        "nteract": {
          "transient": {
            "deleting": false
          }
        }
      },
      "source": [
        "initialize_storage_account(storage_acct, storage_access_key)\r\n",
        "config = download_file_from_directory(\"config\", \"/\", \"config.json\")"
      ]
    },
    {
      "cell_type": "markdown",
      "metadata": {
        "nteract": {
          "transient": {
            "deleting": false
          }
        }
      },
      "source": [
        "## Evaluate overall ACLs needed in short form"
      ]
    },
    {
      "cell_type": "code",
      "execution_count": null,
      "outputs": [],
      "metadata": {
        "jupyter": {
          "source_hidden": false,
          "outputs_hidden": false
        },
        "nteract": {
          "transient": {
            "deleting": false
          }
        }
      },
      "source": [
        "# Assumption: Config contains all the perms needed for a given location. Incremental changes are not allowed.\r\n",
        "# Evalauate effective permissions requested.\r\n",
        "ad_perms = defaultdict(int)\r\n",
        "ad_set = set()\r\n",
        "config_check_errors = []\r\n",
        "for p_info in config[\"datalakeProperties\"]:\r\n",
        "    p_info[\"lastUpdatedDatalake\"] = current_ts\r\n",
        "    partition = f\"{p_info['year']}/{p_info['month']}\"\r\n",
        "    partition_path = f\"{data_path_prefix}{partition}/\"\r\n",
        "    \r\n",
        "    for perm in p_info[\"aclPermissions\"]:\r\n",
        "        for grp in perm[\"groups\"]:\r\n",
        "            ad_set.add(grp)\r\n",
        "            a_type = perm[\"type\"]\r\n",
        "            if a_type == \"read\":\r\n",
        "                ad_perms[(partition_path, grp)] += 4\r\n",
        "            elif a_type == \"write\":\r\n",
        "                ad_perms[(partition_path, grp)] += 2\r\n",
        "            elif a_type == \"execute\":\r\n",
        "                ad_perms[(partition_path, grp)] += 1\r\n",
        "            else:\r\n",
        "                config_check_errors.append(f\"Invalid acl type value :'{a_type}' specifed for partition '{partition}' . Acl Type must be one among ['read', 'write', 'execute']\")\r\n",
        "    \r\n",
        "# Generate statements that can be run in az cli\r\n",
        "print(ad_perms)\r\n",
        "\r\n",
        "\r\n",
        "# Gather list of ADs and their ids - ids are needed for granting ACLs\r\n",
        "# One Option - Requires APP ID - https://github.com/AzureAD/microsoft-authentication-library-for-python\r\n",
        "# for now reading from Vault\r\n",
        "ad_map = { ad: mssparkutils.credentials.getSecretWithLS(keyvault_ls_name, ad) for ad in ad_set}\r\n",
        "print(ad_map)"
      ]
    },
    {
      "cell_type": "markdown",
      "metadata": {
        "nteract": {
          "transient": {
            "deleting": false
          }
        }
      },
      "source": [
        "## Grant ACLs Recursively"
      ]
    },
    {
      "cell_type": "code",
      "execution_count": null,
      "outputs": [],
      "metadata": {
        "jupyter": {
          "source_hidden": false,
          "outputs_hidden": false
        },
        "nteract": {
          "transient": {
            "deleting": false
          }
        }
      },
      "source": [
        "# Assumption: ACL Grant statements are run after data copy step is complete. Otherwise we will run into `The specified path does not exist` errors.\r\n",
        "for k, v in ad_perms.items():\r\n",
        "    (part_path, ad_name) = k\r\n",
        "    if ad_name in ad_map:\r\n",
        "        update_permission_recursively(service_client, data_container, part_path, 0, 'group', ad_map[ad_name], permissions_map[ad_perms[k]])\r\n",
        "    else:\r\n",
        "        config_check_errors.append(f\"{ad_name} is not a valid ActiveDirectory Group.\")\r\n",
        "    \r\n",
        "if len(config_check_errors) > 0:\r\n",
        "    raise ValueError(f\"Config file check failed. Errors are: {config_check_errors}\")\r\n",
        "print(\"ACL Statements generation and Active Directory Check Complete.\")\r\n",
        "\r\n",
        ""
      ]
    },
    {
      "cell_type": "markdown",
      "metadata": {
        "nteract": {
          "transient": {
            "deleting": false
          }
        }
      },
      "source": [
        "## Update Config file with latest run time\r\n",
        "- rename with timestamp and create a new file"
      ]
    },
    {
      "cell_type": "code",
      "execution_count": null,
      "outputs": [],
      "metadata": {
        "jupyter": {
          "source_hidden": false,
          "outputs_hidden": false
        },
        "nteract": {
          "transient": {
            "deleting": false
          }
        }
      },
      "source": [
        "# mssparkutils.fs.help()\r\n",
        "source_config = \"abfss://config@syngudast101.dfs.core.windows.net/config.json\"\r\n",
        "backup_config = f\"abfss://config@syngudast101.dfs.core.windows.net/config_{current_ts}.json\"\r\n",
        "mssparkutils.fs.mv(source_config, backup_config, overwrite=True)\r\n",
        "mssparkutils.fs.put(source_config, json.dumps(config), overwrite=True)\r\n",
        ""
      ]
    }
  ]
}